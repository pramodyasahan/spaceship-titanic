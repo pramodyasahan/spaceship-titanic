{
 "cells": [
  {
   "cell_type": "markdown",
   "id": "a2813d4c-ef68-482f-9b24-f58e413cda35",
   "metadata": {},
   "source": [
    "## Import Dependencies"
   ]
  },
  {
   "cell_type": "code",
   "execution_count": 1,
   "id": "fcc11bfd-1854-4ae8-9943-95eb9bc75fc4",
   "metadata": {},
   "outputs": [],
   "source": [
    "import pandas as pd\n",
    "import numpy as np\n",
    "from sklearn.impute import SimpleImputer\n",
    "from sklearn.preprocessing import OneHotEncoder, OrdinalEncoder, StandardScaler, LabelEncoder\n",
    "from sklearn.compose import ColumnTransformer\n",
    "from sklearn.pipeline import Pipeline\n",
    "from sklearn.svm import SVR, SVC\n",
    "from sklearn.naive_bayes import GaussianNB\n",
    "from catboost import CatBoostClassifier"
   ]
  },
  {
   "cell_type": "code",
   "execution_count": 2,
   "id": "31586aad-b832-40ad-be0b-94cbb5d185cd",
   "metadata": {},
   "outputs": [],
   "source": [
    "dataset = pd.read_csv('train.csv')\n",
    "testset = pd.read_csv('test.csv')"
   ]
  },
  {
   "cell_type": "code",
   "execution_count": 3,
   "id": "76fb0206-a913-42bd-8d6f-0891ae89e959",
   "metadata": {},
   "outputs": [],
   "source": [
    "X = dataset.iloc[:, [1, 2, 3, 4, 5, 6, 7, 8, 9, 10, 11]]\n",
    "y = dataset.iloc[:, -1]\n",
    "\n",
    "test_set = testset.iloc[:, [1, 2, 3, 4, 5, 6, 7, 8, 9, 10, 11]]\n",
    "label = testset.iloc[:, 0]"
   ]
  },
  {
   "cell_type": "code",
   "execution_count": 4,
   "id": "813485be-6ea4-4ef3-92c6-5f090bd5364d",
   "metadata": {},
   "outputs": [
    {
     "data": {
      "text/plain": [
       "0       0013_01\n",
       "1       0018_01\n",
       "2       0019_01\n",
       "3       0021_01\n",
       "4       0023_01\n",
       "         ...   \n",
       "4272    9266_02\n",
       "4273    9269_01\n",
       "4274    9271_01\n",
       "4275    9273_01\n",
       "4276    9277_01\n",
       "Name: PassengerId, Length: 4277, dtype: object"
      ]
     },
     "execution_count": 4,
     "metadata": {},
     "output_type": "execute_result"
    }
   ],
   "source": [
    "label"
   ]
  },
  {
   "cell_type": "code",
   "execution_count": 5,
   "id": "6975312d-a9e8-413d-94e4-677ec3a5b426",
   "metadata": {},
   "outputs": [],
   "source": [
    "def parse_cabin(cabin):\n",
    "    if pd.isnull(cabin):\n",
    "        return np.nan, np.nan, np.nan  \n",
    "    \n",
    "    parts = cabin.split('/')\n",
    "    if len(parts) == 3:\n",
    "        deck, room, side = parts\n",
    "    else:\n",
    "        deck, room, side = np.nan, np.nan, np.nan  \n",
    "    \n",
    "    return deck, room, side"
   ]
  },
  {
   "cell_type": "code",
   "execution_count": 6,
   "id": "64f51865-bc7a-440a-94cf-91115b34303c",
   "metadata": {},
   "outputs": [
    {
     "name": "stderr",
     "output_type": "stream",
     "text": [
      "/var/folders/8k/kc_9gb3n4bbfv8qm0jps82gh0000gn/T/ipykernel_93472/1031997564.py:1: SettingWithCopyWarning: \n",
      "A value is trying to be set on a copy of a slice from a DataFrame.\n",
      "Try using .loc[row_indexer,col_indexer] = value instead\n",
      "\n",
      "See the caveats in the documentation: https://pandas.pydata.org/pandas-docs/stable/user_guide/indexing.html#returning-a-view-versus-a-copy\n",
      "  X['Deck'], X['Room'], X['Side'] = zip(*X['Cabin'].apply(parse_cabin))\n",
      "/var/folders/8k/kc_9gb3n4bbfv8qm0jps82gh0000gn/T/ipykernel_93472/1031997564.py:1: SettingWithCopyWarning: \n",
      "A value is trying to be set on a copy of a slice from a DataFrame.\n",
      "Try using .loc[row_indexer,col_indexer] = value instead\n",
      "\n",
      "See the caveats in the documentation: https://pandas.pydata.org/pandas-docs/stable/user_guide/indexing.html#returning-a-view-versus-a-copy\n",
      "  X['Deck'], X['Room'], X['Side'] = zip(*X['Cabin'].apply(parse_cabin))\n"
     ]
    },
    {
     "data": {
      "text/plain": [
       "array([['Europa', False, 'TRAPPIST-1e', ..., 'B', '0', 'P'],\n",
       "       ['Earth', False, 'TRAPPIST-1e', ..., 'F', '0', 'S'],\n",
       "       ['Europa', False, 'TRAPPIST-1e', ..., 'A', '0', 'S'],\n",
       "       ...,\n",
       "       ['Earth', False, 'TRAPPIST-1e', ..., 'G', '1500', 'S'],\n",
       "       ['Europa', False, '55 Cancri e', ..., 'E', '608', 'S'],\n",
       "       ['Europa', False, 'TRAPPIST-1e', ..., 'E', '608', 'S']],\n",
       "      dtype=object)"
      ]
     },
     "execution_count": 6,
     "metadata": {},
     "output_type": "execute_result"
    }
   ],
   "source": [
    "X['Deck'], X['Room'], X['Side'] = zip(*X['Cabin'].apply(parse_cabin))\n",
    "X = X.drop('Cabin', axis=1)\n",
    "feature_columns = ['HomePlanet', 'CryoSleep', 'Destination', 'Age', 'VIP', \n",
    "                   'RoomService', 'FoodCourt', 'ShoppingMall', 'Spa', 'VRDeck', \n",
    "                   'Deck', 'Room', 'Side'] \n",
    "\n",
    "features_array = X[feature_columns].to_numpy()\n",
    "features_array"
   ]
  },
  {
   "cell_type": "code",
   "execution_count": 7,
   "id": "58a31824-7af7-49f9-9bc6-089ea1d56bf9",
   "metadata": {},
   "outputs": [
    {
     "data": {
      "text/plain": [
       "array(['Earth', False, 'TRAPPIST-1e', 24.0, False, 109.0, 9.0, 25.0,\n",
       "       549.0, 44.0, 'F', '0', 'S'], dtype=object)"
      ]
     },
     "execution_count": 7,
     "metadata": {},
     "output_type": "execute_result"
    }
   ],
   "source": [
    "features_array[1]"
   ]
  },
  {
   "cell_type": "code",
   "execution_count": 8,
   "id": "096f3093-42cc-402e-87ba-397125067447",
   "metadata": {},
   "outputs": [],
   "source": [
    "categorical_cols = [0, 1, 2, 4, 10, 12]  \n",
    "\n",
    "numerical_cols = [3, 5, 6, 7, 8, 9, 11]  \n",
    "\n",
    "numerical_pipeline = Pipeline(steps=[\n",
    "    ('imputer', SimpleImputer(strategy='mean')),\n",
    "    ('scaler', StandardScaler())\n",
    "])\n",
    "\n",
    "categorical_pipeline = Pipeline(steps=[\n",
    "    ('imputer', SimpleImputer(strategy='most_frequent')),\n",
    "    ('onehot', OneHotEncoder(handle_unknown='ignore'))\n",
    "])\n",
    "\n",
    "preprocessor = ColumnTransformer(transformers=[\n",
    "    ('num', numerical_pipeline, numerical_cols),\n",
    "    ('cat', categorical_pipeline, categorical_cols)\n",
    "])\n",
    "\n",
    "X_transformed = preprocessor.fit_transform(X)"
   ]
  },
  {
   "cell_type": "code",
   "execution_count": 9,
   "id": "1e546103-75ea-4b1e-81c1-e9c7b492ee3e",
   "metadata": {},
   "outputs": [
    {
     "data": {
      "text/plain": [
       "array([-0.33671733, -0.1753636 , -0.28166908, -0.24896783,  0.2115053 ,\n",
       "       -0.23019432, -1.18662707,  1.        ,  0.        ,  0.        ,\n",
       "        1.        ,  0.        ,  0.        ,  0.        ,  1.        ,\n",
       "        1.        ,  0.        ,  0.        ,  0.        ,  0.        ,\n",
       "        0.        ,  0.        ,  1.        ,  0.        ,  0.        ,\n",
       "        0.        ,  1.        ])"
      ]
     },
     "execution_count": 9,
     "metadata": {},
     "output_type": "execute_result"
    }
   ],
   "source": [
    "X_transformed[1]"
   ]
  },
  {
   "cell_type": "code",
   "execution_count": 10,
   "id": "94fbe027-7348-45f3-9a8c-66d2c66a0109",
   "metadata": {},
   "outputs": [
    {
     "name": "stderr",
     "output_type": "stream",
     "text": [
      "/var/folders/8k/kc_9gb3n4bbfv8qm0jps82gh0000gn/T/ipykernel_93472/3712804295.py:1: SettingWithCopyWarning: \n",
      "A value is trying to be set on a copy of a slice from a DataFrame.\n",
      "Try using .loc[row_indexer,col_indexer] = value instead\n",
      "\n",
      "See the caveats in the documentation: https://pandas.pydata.org/pandas-docs/stable/user_guide/indexing.html#returning-a-view-versus-a-copy\n",
      "  test_set['Deck'], test_set['Room'], test_set['Side'] = zip(*test_set['Cabin'].apply(parse_cabin))\n"
     ]
    }
   ],
   "source": [
    "test_set['Deck'], test_set['Room'], test_set['Side'] = zip(*test_set['Cabin'].apply(parse_cabin))\n",
    "test_set = test_set.drop('Cabin', axis=1)\n",
    "\n",
    "feature_columns = ['HomePlanet', 'CryoSleep', 'Destination', 'Age', 'VIP', \n",
    "                   'RoomService', 'FoodCourt', 'ShoppingMall', 'Spa', 'VRDeck', \n",
    "                   'Deck', 'Room', 'Side'] \n",
    "\n",
    "test_set_transformed = preprocessor.transform(test_set[feature_columns])\n",
    "\n",
    "test_features_array = test_set_transformed"
   ]
  },
  {
   "cell_type": "code",
   "execution_count": 11,
   "id": "5da0d404-558b-462d-bded-ec06fc624eb3",
   "metadata": {},
   "outputs": [
    {
     "data": {
      "text/plain": [
       "array([0, 1, 0, ..., 1, 0, 1])"
      ]
     },
     "execution_count": 11,
     "metadata": {},
     "output_type": "execute_result"
    }
   ],
   "source": [
    "le = LabelEncoder()\n",
    "y = np.array(le.fit_transform(y))\n",
    "y"
   ]
  },
  {
   "cell_type": "code",
   "execution_count": 12,
   "id": "798e6ae0-4f7d-44d2-9da9-344540d29d9d",
   "metadata": {},
   "outputs": [
    {
     "name": "stdout",
     "output_type": "stream",
     "text": [
      "0:\tlearn: 0.6521265\ttotal: 61.7ms\tremaining: 247ms\n",
      "1:\tlearn: 0.6111106\ttotal: 63.8ms\tremaining: 95.7ms\n",
      "2:\tlearn: 0.5834594\ttotal: 65.9ms\tremaining: 43.9ms\n",
      "3:\tlearn: 0.5615645\ttotal: 67.9ms\tremaining: 17ms\n",
      "4:\tlearn: 0.5421448\ttotal: 69.9ms\tremaining: 0us\n"
     ]
    },
    {
     "data": {
      "text/plain": [
       "<catboost.core.CatBoostClassifier at 0x1339130d0>"
      ]
     },
     "execution_count": 12,
     "metadata": {},
     "output_type": "execute_result"
    }
   ],
   "source": [
    "clf = CatBoostClassifier(\n",
    "    iterations=5, \n",
    "    learning_rate=0.1, \n",
    "    loss_function='CrossEntropy'\n",
    ")\n",
    "clf.fit(X_transformed, y)"
   ]
  },
  {
   "cell_type": "code",
   "execution_count": 13,
   "id": "fc299399-65bc-495a-ad20-964bd1b399a5",
   "metadata": {},
   "outputs": [],
   "source": [
    "y_pred = clf.predict(test_set_transformed)"
   ]
  },
  {
   "cell_type": "code",
   "execution_count": 14,
   "id": "7c8d2ec8-e1db-4beb-8f0d-6c1106111391",
   "metadata": {},
   "outputs": [
    {
     "data": {
      "text/plain": [
       "array([1, 0, 1, ..., 1, 1, 1])"
      ]
     },
     "execution_count": 14,
     "metadata": {},
     "output_type": "execute_result"
    }
   ],
   "source": [
    "threshold = 0.5\n",
    "y_pred_binary = (y_pred > threshold).astype(int)\n",
    "\n",
    "y_pred_binary"
   ]
  },
  {
   "cell_type": "code",
   "execution_count": 15,
   "id": "e96dab68-1490-4456-99b4-e3c007e7c0bc",
   "metadata": {},
   "outputs": [],
   "source": [
    "result_df = pd.DataFrame({\n",
    "    'PassengerID': label,\n",
    "    'Transported': y_pred_binary\n",
    "})\n",
    "result_df['Transported'] = result_df['Transported'].astype(bool)\n",
    "result_df.to_csv('predictions1.csv', index=False)"
   ]
  },
  {
   "cell_type": "code",
   "execution_count": null,
   "id": "0ab94271-9db5-4c43-8376-d160e5abd3f1",
   "metadata": {},
   "outputs": [],
   "source": []
  }
 ],
 "metadata": {
  "kernelspec": {
   "display_name": "Python 3 (ipykernel)",
   "language": "python",
   "name": "python3"
  },
  "language_info": {
   "codemirror_mode": {
    "name": "ipython",
    "version": 3
   },
   "file_extension": ".py",
   "mimetype": "text/x-python",
   "name": "python",
   "nbconvert_exporter": "python",
   "pygments_lexer": "ipython3",
   "version": "3.10.13"
  }
 },
 "nbformat": 4,
 "nbformat_minor": 5
}

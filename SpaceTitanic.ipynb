{
 "cells": [
  {
   "cell_type": "markdown",
   "id": "a2813d4c-ef68-482f-9b24-f58e413cda35",
   "metadata": {},
   "source": [
    "## Import Dependencies"
   ]
  },
  {
   "cell_type": "code",
   "execution_count": null,
   "id": "fcc11bfd-1854-4ae8-9943-95eb9bc75fc4",
   "metadata": {},
   "outputs": [],
   "source": [
    "import pandas as pd\n",
    "import numpy as np\n",
    "from sklearn.impute import SimpleImputer\n",
    "from sklearn.preprocessing import OneHotEncoder, OrdinalEncoder, StandardScaler, LabelEncoder\n",
    "from sklearn.compose import ColumnTransformer\n",
    "from sklearn.pipeline import Pipeline\n",
    "from sklearn.svm import SVR, SVC\n",
    "from sklearn.naive_bayes import GaussianNB\n",
    "from catboost import CatBoostClassifier"
   ]
  },
  {
   "cell_type": "code",
   "execution_count": null,
   "id": "31586aad-b832-40ad-be0b-94cbb5d185cd",
   "metadata": {},
   "outputs": [],
   "source": [
    "dataset = pd.read_csv('train.csv')\n",
    "testset = pd.read_csv('test.csv')"
   ]
  },
  {
   "cell_type": "code",
   "execution_count": null,
   "id": "76fb0206-a913-42bd-8d6f-0891ae89e959",
   "metadata": {},
   "outputs": [],
   "source": [
    "X = dataset.iloc[:, [1, 2, 3, 4, 5, 6, 7, 8, 9, 10, 11]]\n",
    "y = dataset.iloc[:, -1]\n",
    "\n",
    "test_set = testset.iloc[:, [1, 2, 3, 4, 5, 6, 7, 8, 9, 10, 11]]\n",
    "label = testset.iloc[:, 0]"
   ]
  },
  {
   "cell_type": "code",
   "execution_count": null,
   "id": "813485be-6ea4-4ef3-92c6-5f090bd5364d",
   "metadata": {},
   "outputs": [],
   "source": [
    "label"
   ]
  },
  {
   "cell_type": "code",
   "execution_count": null,
   "id": "6975312d-a9e8-413d-94e4-677ec3a5b426",
   "metadata": {},
   "outputs": [],
   "source": [
    "def parse_cabin(cabin):\n",
    "    if pd.isnull(cabin):\n",
    "        return np.nan, np.nan, np.nan  \n",
    "    \n",
    "    parts = cabin.split('/')\n",
    "    if len(parts) == 3:\n",
    "        deck, room, side = parts\n",
    "    else:\n",
    "        deck, room, side = np.nan, np.nan, np.nan  \n",
    "    \n",
    "    return deck, room, side"
   ]
  },
  {
   "cell_type": "code",
   "execution_count": null,
   "id": "64f51865-bc7a-440a-94cf-91115b34303c",
   "metadata": {},
   "outputs": [],
   "source": [
    "X['Deck'], X['Room'], X['Side'] = zip(*X['Cabin'].apply(parse_cabin))\n",
    "X = X.drop('Cabin', axis=1)\n",
    "feature_columns = ['HomePlanet', 'CryoSleep', 'Destination', 'Age', 'VIP', \n",
    "                   'RoomService', 'FoodCourt', 'ShoppingMall', 'Spa', 'VRDeck', \n",
    "                   'Deck', 'Room', 'Side'] \n",
    "\n",
    "features_array = X[feature_columns].to_numpy()\n",
    "features_array"
   ]
  },
  {
   "cell_type": "code",
   "execution_count": null,
   "id": "58a31824-7af7-49f9-9bc6-089ea1d56bf9",
   "metadata": {},
   "outputs": [],
   "source": [
    "features_array[1]"
   ]
  },
  {
   "cell_type": "code",
   "execution_count": null,
   "id": "096f3093-42cc-402e-87ba-397125067447",
   "metadata": {},
   "outputs": [],
   "source": [
    "categorical_cols = [0, 1, 2, 4, 10, 12]  \n",
    "\n",
    "numerical_cols = [3, 5, 6, 7, 8, 9, 11]  \n",
    "\n",
    "numerical_pipeline = Pipeline(steps=[\n",
    "    ('imputer', SimpleImputer(strategy='mean')),\n",
    "    ('scaler', StandardScaler())\n",
    "])\n",
    "\n",
    "categorical_pipeline = Pipeline(steps=[\n",
    "    ('imputer', SimpleImputer(strategy='most_frequent')),\n",
    "    ('onehot', OneHotEncoder(handle_unknown='ignore'))\n",
    "])\n",
    "\n",
    "preprocessor = ColumnTransformer(transformers=[\n",
    "    ('num', numerical_pipeline, numerical_cols),\n",
    "    ('cat', categorical_pipeline, categorical_cols)\n",
    "])\n",
    "\n",
    "X_transformed = preprocessor.fit_transform(X)"
   ]
  },
  {
   "cell_type": "code",
   "execution_count": null,
   "id": "1e546103-75ea-4b1e-81c1-e9c7b492ee3e",
   "metadata": {},
   "outputs": [],
   "source": [
    "X_transformed[1]"
   ]
  },
  {
   "cell_type": "code",
   "execution_count": null,
   "id": "94fbe027-7348-45f3-9a8c-66d2c66a0109",
   "metadata": {},
   "outputs": [],
   "source": [
    "test_set['Deck'], test_set['Room'], test_set['Side'] = zip(*test_set['Cabin'].apply(parse_cabin))\n",
    "test_set = test_set.drop('Cabin', axis=1)\n",
    "\n",
    "feature_columns = ['HomePlanet', 'CryoSleep', 'Destination', 'Age', 'VIP', \n",
    "                   'RoomService', 'FoodCourt', 'ShoppingMall', 'Spa', 'VRDeck', \n",
    "                   'Deck', 'Room', 'Side'] \n",
    "\n",
    "test_set_transformed = preprocessor.transform(test_set[feature_columns])\n",
    "\n",
    "test_features_array = test_set_transformed"
   ]
  },
  {
   "cell_type": "code",
   "execution_count": null,
   "id": "5da0d404-558b-462d-bded-ec06fc624eb3",
   "metadata": {},
   "outputs": [],
   "source": [
    "le = LabelEncoder()\n",
    "y = np.array(le.fit_transform(y))\n",
    "y"
   ]
  },
  {
   "cell_type": "code",
   "execution_count": null,
   "id": "798e6ae0-4f7d-44d2-9da9-344540d29d9d",
   "metadata": {},
   "outputs": [],
   "source": [
    "clf = CatBoostClassifier(\n",
    "    iterations=5, \n",
    "    learning_rate=0.1, \n",
    "    loss_function='CrossEntropy'\n",
    ")\n",
    "clf.fit(X_transformed, y)"
   ]
  },
  {
   "cell_type": "code",
   "execution_count": null,
   "id": "fc299399-65bc-495a-ad20-964bd1b399a5",
   "metadata": {},
   "outputs": [],
   "source": [
    "y_pred = clf.predict(test_set_transformed)"
   ]
  },
  {
   "cell_type": "code",
   "execution_count": null,
   "id": "7c8d2ec8-e1db-4beb-8f0d-6c1106111391",
   "metadata": {},
   "outputs": [],
   "source": [
    "threshold = 0.5\n",
    "y_pred_binary = (y_pred > threshold).astype(int)\n",
    "\n",
    "y_pred_binary"
   ]
  },
  {
   "cell_type": "code",
   "execution_count": null,
   "id": "e96dab68-1490-4456-99b4-e3c007e7c0bc",
   "metadata": {},
   "outputs": [],
   "source": [
    "result_df = pd.DataFrame({\n",
    "    'PassengerID': label,\n",
    "    'Transported': y_pred_binary\n",
    "})\n",
    "result_df['Transported'] = result_df['Transported'].astype(bool)\n",
    "result_df.to_csv('predictions1.csv', index=False)"
   ]
  },
  {
   "cell_type": "code",
   "execution_count": null,
   "id": "0ab94271-9db5-4c43-8376-d160e5abd3f1",
   "metadata": {},
   "outputs": [],
   "source": []
  }
 ],
 "metadata": {
  "kernelspec": {
   "display_name": "Python 3 (ipykernel)",
   "language": "python",
   "name": "python3"
  },
  "language_info": {
   "codemirror_mode": {
    "name": "ipython",
    "version": 3
   },
   "file_extension": ".py",
   "mimetype": "text/x-python",
   "name": "python",
   "nbconvert_exporter": "python",
   "pygments_lexer": "ipython3",
   "version": "3.10.13"
  }
 },
 "nbformat": 4,
 "nbformat_minor": 5
}
